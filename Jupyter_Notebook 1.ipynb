{
 "cells": [
  {
   "cell_type": "markdown",
   "id": "8bd552df-ae9b-4e37-9d9a-30b350402f2b",
   "metadata": {},
   "source": [
    "# My Jupyter Notebook on IBM Watson Studio"
   ]
  },
  {
   "cell_type": "markdown",
   "id": "be4e31e2-fa19-4570-bec0-09775008ef85",
   "metadata": {},
   "source": [
    "**Shweta Varade**"
   ]
  },
  {
   "cell_type": "markdown",
   "id": "a06217bd-38cf-470c-8012-3799ae0f83f5",
   "metadata": {},
   "source": [
    "Student"
   ]
  },
  {
   "cell_type": "markdown",
   "id": "ac927ce2-aed8-4ee0-bbb1-f56c531b7dc4",
   "metadata": {},
   "source": [
    "*I'm interested in data science because I love to solve problems.*"
   ]
  },
  {
   "cell_type": "markdown",
   "id": "9deb772d-3973-4eb4-a8da-d35abd86fd49",
   "metadata": {},
   "source": [
    "### The following code tests the addition."
   ]
  },
  {
   "cell_type": "code",
   "execution_count": 1,
   "id": "69219e82-c404-446f-bede-766d468d7c79",
   "metadata": {},
   "outputs": [
    {
     "data": {
      "text/plain": [
       "2"
      ]
     },
     "execution_count": 1,
     "metadata": {},
     "output_type": "execute_result"
    }
   ],
   "source": [
    "1+1"
   ]
  },
  {
   "cell_type": "markdown",
   "id": "fd3b5366-2f07-4f40-a6e3-16891c855510",
   "metadata": {},
   "source": [
    "* one\n",
    "* two\n",
    "* three \n",
    "* four\n",
    "* five"
   ]
  },
  {
   "cell_type": "markdown",
   "id": "c818bffe-847a-4230-a48b-810dac2ab672",
   "metadata": {},
   "source": [
    "----------------------------------------------"
   ]
  },
  {
   "cell_type": "markdown",
   "id": "09ead749-dd25-4e45-9816-ee74f290c647",
   "metadata": {},
   "source": [
    "~~Scratch this.~~"
   ]
  },
  {
   "cell_type": "markdown",
   "id": "b6353bde-bd78-45f1-bf43-23a9374ea6dc",
   "metadata": {},
   "source": [
    "Markdown | Less | Pretty |\n",
    "--- | --- | --- |\n"
   ]
  }
 ],
 "metadata": {
  "kernelspec": {
   "display_name": "Python",
   "language": "python",
   "name": "conda-env-python-py"
  },
  "language_info": {
   "codemirror_mode": {
    "name": "ipython",
    "version": 3
   },
   "file_extension": ".py",
   "mimetype": "text/x-python",
   "name": "python",
   "nbconvert_exporter": "python",
   "pygments_lexer": "ipython3",
   "version": "3.7.12"
  }
 },
 "nbformat": 4,
 "nbformat_minor": 5
}
